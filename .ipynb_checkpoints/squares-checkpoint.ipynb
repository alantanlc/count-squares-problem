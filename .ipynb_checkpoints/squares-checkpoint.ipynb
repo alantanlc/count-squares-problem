{
 "cells": [
  {
   "cell_type": "markdown",
   "metadata": {},
   "source": [
    "## Given a diagram with many straight lines, count how many squares in the diagram and its time complexity\n",
    "\n",
    "This example uses __dynamic programming__ to compute the total number of squares given the number of vertical and horizontal lines."
   ]
  },
  {
   "cell_type": "markdown",
   "metadata": {},
   "source": [
    "### Construct a list of vertical lines and horizontal lines"
   ]
  },
  {
   "cell_type": "code",
   "execution_count": 1,
   "metadata": {},
   "outputs": [],
   "source": [
    "class Point:\n",
    "    def __init__(self, x, y):\n",
    "        self.x = x\n",
    "        self.y = y\n",
    "        \n",
    "class Line:\n",
    "    def __init__(self, p1, p2):\n",
    "        self.p1 = p1\n",
    "        self.p2 = p2"
   ]
  },
  {
   "cell_type": "code",
   "execution_count": 2,
   "metadata": {},
   "outputs": [],
   "source": [
    "n_lines = 6\n",
    "lines = []\n",
    "\n",
    "# Construct vertical lines\n",
    "for i in range(n_lines):\n",
    "    p1 = Point(i, 0)\n",
    "    p2 = Point(i, n_lines-1)\n",
    "    lines.append(Line(p1, p2))\n",
    "    \n",
    "# Construct horizontal lines\n",
    "for i in range(n_lines):\n",
    "    p1 = Point(0, i)\n",
    "    p2 = Point(n_lines-1, i)\n",
    "    lines.append(Line(p1, p2))"
   ]
  },
  {
   "cell_type": "markdown",
   "metadata": {},
   "source": [
    "### Plot the lines"
   ]
  },
  {
   "cell_type": "code",
   "execution_count": 4,
   "metadata": {},
   "outputs": [
    {
     "data": {
      "image/png": "[encoded data removed]",
      "text/plain": [
       "<Figure size 432x288 with 1 Axes>"
      ]
     },
     "metadata": {
      "needs_background": "light"
     },
     "output_type": "display_data"
    }
   ],
   "source": [
    "import matplotlib.pyplot as plt\n",
    "\n",
    "for line in lines:\n",
    "    plt.plot([line.p1.x, line.p2.x], [line.p1.y, line.p2.y]);\n",
    "plt.show()"
   ]
  },
  {
   "cell_type": "markdown",
   "metadata": {},
   "source": [
    "## Use dynamic programming to compute number of squares"
   ]
  },
  {
   "cell_type": "markdown",
   "metadata": {},
   "source": [
    "### First, we construct a 2D array of number of vertical lines against number of horizontal lines"
   ]
  },
  {
   "cell_type": "code",
   "execution_count": 5,
   "metadata": {},
   "outputs": [
    {
     "data": {
      "text/plain": [
       "[[0, 0, 0, 0, 0],\n",
       " [0, 0, 0, 0, 0],\n",
       " [0, 0, 0, 0, 0],\n",
       " [0, 0, 0, 0, 0],\n",
       " [0, 0, 0, 0, 0]]"
      ]
     },
     "execution_count": 5,
     "metadata": {},
     "output_type": "execute_result"
    }
   ],
   "source": [
    "n_cells = n_lines - 1\n",
    "arr = [[0 for i in range(n_cells)] for j in range(n_cells)]\n",
    "arr"
   ]
  },
  {
   "cell_type": "markdown",
   "metadata": {},
   "source": [
    "Each cell will store total the number of squares given a number of vertical lines and horizontal lines. __Note that index 0 begins with _two_ lines__.\n",
    "\n",
    "- `arr[0][0]` represents 2 vertical lines and 2 horizontal lines.\n",
    "- `arr[0][1]` represents 3 vertical lines and 2 horizontal lines.\n",
    "- `arr[1][0]` represents 2 vertical lines and 3 horionztal lines.\n",
    "- `arr[1][1]` represents 3 vertical lines and 3 horizontal lines.\n",
    "\n",
    "_So on and so forth..._"
   ]
  },
  {
   "cell_type": "markdown",
   "metadata": {},
   "source": [
    "### We initialize the result of the first cell since we know the answer, i.e. given 2 vertical lines and 2 horizontal lines, we get one square."
   ]
  },
  {
   "cell_type": "code",
   "execution_count": 6,
   "metadata": {},
   "outputs": [
    {
     "data": {
      "text/plain": [
       "[[1, 0, 0, 0, 0],\n",
       " [0, 0, 0, 0, 0],\n",
       " [0, 0, 0, 0, 0],\n",
       " [0, 0, 0, 0, 0],\n",
       " [0, 0, 0, 0, 0]]"
      ]
     },
     "execution_count": 6,
     "metadata": {},
     "output_type": "execute_result"
    }
   ],
   "source": [
    "# Set number of squares for the first cell\n",
    "arr[0][0] = 1\n",
    "arr"
   ]
  },
  {
   "cell_type": "markdown",
   "metadata": {},
   "source": [
    "### Next, we compute number of squares for first row and first column\n",
    "\n",
    "Iterating the first row, the result of each column cell is given as number of squares computed in previous column cell plus the number of new squares given a new vertical line.\n",
    "\n",
    "Iterating the first column, the result of each row cell is given as number of squares computed in previous row cell plus the number of new squares given a new horizontal line."
   ]
  },
  {
   "cell_type": "code",
   "execution_count": 7,
   "metadata": {},
   "outputs": [
    {
     "data": {
      "text/plain": [
       "[[1, 3, 6, 10, 15],\n",
       " [3, 0, 0, 0, 0],\n",
       " [6, 0, 0, 0, 0],\n",
       " [10, 0, 0, 0, 0],\n",
       " [15, 0, 0, 0, 0]]"
      ]
     },
     "execution_count": 7,
     "metadata": {},
     "output_type": "execute_result"
    }
   ],
   "source": [
    "for i in range(1, n_cells):\n",
    "    arr[0][i] = arr[0][i-1] + (i+1)\n",
    "    arr[i][0] = arr[i-1][0] + (i+1)\n",
    "arr"
   ]
  },
  {
   "cell_type": "markdown",
   "metadata": {},
   "source": [
    "### Compute the number of squares for remaining cells\n",
    "\n",
    "To understand how this works, first we need to see that the result is __symmetric__. The result of `arr[i][j]` is the same `arr[j][i]`,\n",
    "\n",
    "    e.g. number of squares given 3 vertical lines and 2 horizontal lines equals number of squares given 2 vertical lines and 3 horizontal lines.\n",
    "\n",
    "Therefore, we just need to iterate over and compute the result of the \"top triangle half\" of the array including the diagonal cells. Once we compute the results of `arr[i][j]`, we can also assign the value to `arr[j][i]`.\n",
    "\n",
    "Next, we need to see that the result of each cell `arr[i][j]` is given as the result of the cell in the row above (i.e. `arr[i-1][j]`) __plus__ the result of the column base case `arr[0][j]` __multiplied by the number of times the base case appears given the new horizontal line added__.\n",
    "\n",
    "The number of times that the base case appears increments by 1 for each new row (i.e. for each new horizontal line added to the diagram).\n",
    "\n",
    "The time complexity of this algorithm is __O(n^2)__ in the worst case when there are n/2 vertical lines and n/2 horizontal lines given n lines in total.\n",
    "\n",
    "The space complexity would also be __O(n^2)__."
   ]
  },
  {
   "cell_type": "code",
   "execution_count": 8,
   "metadata": {},
   "outputs": [
    {
     "data": {
      "text/plain": [
       "[[1, 3, 6, 10, 15],\n",
       " [3, 9, 18, 30, 45],\n",
       " [6, 18, 36, 60, 90],\n",
       " [10, 30, 60, 100, 150],\n",
       " [15, 45, 90, 150, 225]]"
      ]
     },
     "execution_count": 8,
     "metadata": {},
     "output_type": "execute_result"
    }
   ],
   "source": [
    "for i in range(1, n_cells):\n",
    "    for j in range(i, n_cells):\n",
    "        arr[i][j] = arr[i-1][j] + arr[0][j] * (i+1)\n",
    "        arr[j][i] = arr[i-1][j] + arr[0][j] * (i+1)\n",
    "arr"
   ]
  },
  {
   "cell_type": "markdown",
   "metadata": {},
   "source": [
    "### Here's a plot of the lines again to verify the results. Happy counting!"
   ]
  },
  {
   "cell_type": "code",
   "execution_count": 9,
   "metadata": {
    "scrolled": false
   },
   "outputs": [
    {
     "data": {
      "image/png": "[encoded data removed]",
      "text/plain": [
       "<Figure size 432x288 with 1 Axes>"
      ]
     },
     "metadata": {
      "needs_background": "light"
     },
     "output_type": "display_data"
    }
   ],
   "source": [
    "import matplotlib.pyplot as plt\n",
    "\n",
    "for line in lines:\n",
    "    plt.plot([line.p1.x, line.p2.x], [line.p1.y, line.p2.y]);\n",
    "plt.show()"
   ]
  }
 ],
 "metadata": {
  "kernelspec": {
   "display_name": "Python 3",
   "language": "python",
   "name": "python3"
  },
  "language_info": {
   "codemirror_mode": {
    "name": "ipython",
    "version": 3
   },
   "file_extension": ".py",
   "mimetype": "text/x-python",
   "name": "python",
   "nbconvert_exporter": "python",
   "pygments_lexer": "ipython3",
   "version": "3.7.4"
  }
 },
 "nbformat": 4,
 "nbformat_minor": 2
}
